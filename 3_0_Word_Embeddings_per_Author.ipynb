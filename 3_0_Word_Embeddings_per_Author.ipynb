{
  "nbformat": 4,
  "nbformat_minor": 0,
  "metadata": {
    "colab": {
      "provenance": [],
      "collapsed_sections": [
        "MuHaESZSAo4_",
        "3C54Xdf9A0J3",
        "fP1gRvEyXj0V"
      ],
      "authorship_tag": "ABX9TyML0BwXjwTEmoZE4YGuRe8l",
      "include_colab_link": true
    },
    "kernelspec": {
      "name": "python3",
      "display_name": "Python 3"
    },
    "language_info": {
      "name": "python"
    }
  },
  "cells": [
    {
      "cell_type": "markdown",
      "metadata": {
        "id": "view-in-github",
        "colab_type": "text"
      },
      "source": [
        "<a href=\"https://colab.research.google.com/github/lavou/IntroPythonForDS/blob/master/3_0_Word_Embeddings_per_Author.ipynb\" target=\"_parent\"><img src=\"https://colab.research.google.com/assets/colab-badge.svg\" alt=\"Open In Colab\"/></a>"
      ]
    },
    {
      "cell_type": "markdown",
      "source": [
        "#In this notebook we clean the Keywords values, assign keywords to each author based on weights of authorship order and we create word embeddings for each author.\n",
        "\n"
      ],
      "metadata": {
        "id": "0kksHKTOaSvM"
      }
    },
    {
      "cell_type": "markdown",
      "source": [
        "######0. Mount, set path & load packages"
      ],
      "metadata": {
        "id": "MuHaESZSAo4_"
      }
    },
    {
      "cell_type": "code",
      "source": [
        "import os\n",
        "import pandas as pd\n",
        "import re\n",
        "from bs4 import BeautifulSoup\n",
        "from gensim.models import Word2Vec\n",
        "import numpy as np"
      ],
      "metadata": {
        "id": "GTVA7SYpaKWF"
      },
      "execution_count": null,
      "outputs": []
    },
    {
      "cell_type": "code",
      "execution_count": null,
      "metadata": {
        "colab": {
          "base_uri": "https://localhost:8080/"
        },
        "id": "El-9raNwZXqu",
        "outputId": "98eb55cb-13e7-4f41-8dd0-b1e8c5b9ed25"
      },
      "outputs": [
        {
          "output_type": "stream",
          "name": "stdout",
          "text": [
            "Mounted at /content/drive\n"
          ]
        }
      ],
      "source": [
        "from google.colab import drive\n",
        "drive.mount('/content/drive')"
      ]
    },
    {
      "cell_type": "code",
      "source": [
        "dir_path = '/content/drive/MyDrive/Pubmed_project/Dataframes'"
      ],
      "metadata": {
        "id": "oVfvrIUAZkBb"
      },
      "execution_count": null,
      "outputs": []
    },
    {
      "cell_type": "code",
      "source": [
        "# read the df with gpt-3 keywords\n",
        "file_path = os.path.join(dir_path, 'df_keywords_GPT3_&Authors.csv')\n",
        "df1 = pd.read_csv(file_path)"
      ],
      "metadata": {
        "id": "7Wu5bh-0Zurm"
      },
      "execution_count": null,
      "outputs": []
    },
    {
      "cell_type": "markdown",
      "source": [
        "######1. Cleaning"
      ],
      "metadata": {
        "id": "3C54Xdf9A0J3"
      }
    },
    {
      "cell_type": "code",
      "source": [
        "print(len(df1[\"Author's Name\"].unique()))"
      ],
      "metadata": {
        "colab": {
          "base_uri": "https://localhost:8080/"
        },
        "id": "Zu1LDARS-B2f",
        "outputId": "d2bdc6d7-0a57-4ed8-8151-a446dfb9c942"
      },
      "execution_count": null,
      "outputs": [
        {
          "output_type": "stream",
          "name": "stdout",
          "text": [
            "51\n"
          ]
        }
      ]
    },
    {
      "cell_type": "code",
      "source": [
        "print(df1[\"Author's Name\"].unique())"
      ],
      "metadata": {
        "colab": {
          "base_uri": "https://localhost:8080/"
        },
        "id": "XeqqXk8Vn8XQ",
        "outputId": "335aa708-8e2d-42a7-b5d1-a1b3809a5107"
      },
      "execution_count": null,
      "outputs": [
        {
          "output_type": "stream",
          "name": "stdout",
          "text": [
            "['Doudna JA' 'Sternberg SH' 'Harrington LB' 'Cate JH' 'Al-Shayeb B'\n",
            " 'Staahl BT' 'Wiedenheft B' 'Fraser CS' 'Szostak JW' 'Wright AV'\n",
            " 'Kumar GR' 'Stahl EC' 'Cofsky JC' 'Kranzusch PJ' 'Batey RT'\n",
            " 'Ehrenberg AJ' 'Oakes BL' 'Floor SN' 'Mortimer SA' 'Doherty EA'\n",
            " 'Bhuiya A' 'Switz NA' 'Harris AR' 'Moehle EA' 'Fletcher DA' 'Hirsh A'\n",
            " 'East-Seletsky A' 'Nuñez JK' 'Kidwell MA' 'Ke A' 'MacRae IJ' 'Khalid MM'\n",
            " 'Escajeda AM' 'Mok A' 'Lareau LF' 'Tan MX' 'Hsu PD' 'Lew RJ' 'Pestal K'\n",
            " 'Gildea HK' 'Urnov FD' 'Giannikopoulos P' 'Lobba MJ' 'Watters KE'\n",
            " 'Kornfeld JE' 'Noland CL' 'Barendregt A' 'Haurwitz RE' 'Coyle SM'\n",
            " 'Hershey JW' 'Taha TY']\n"
          ]
        }
      ]
    },
    {
      "cell_type": "code",
      "source": [
        "the51_author_names = df1[\"Author's Name\"].unique().tolist()\n",
        "# save it into a list\n",
        "with open('/content/drive/MyDrive/Pubmed_project/Lists/51_author_names.txt', 'w') as f:\n",
        "    for item in the51_author_names:\n",
        "        f.write(\"%s\\n\" % item)"
      ],
      "metadata": {
        "id": "_h5Iux3r8Ebu"
      },
      "execution_count": null,
      "outputs": []
    },
    {
      "cell_type": "code",
      "source": [
        "df1.head()"
      ],
      "metadata": {
        "id": "EQdbDHBhaIx5"
      },
      "execution_count": null,
      "outputs": []
    },
    {
      "cell_type": "code",
      "source": [
        "print(df1['Keywords'].dtype)"
      ],
      "metadata": {
        "colab": {
          "base_uri": "https://localhost:8080/"
        },
        "id": "K1qnGhxbIdB5",
        "outputId": "a8c67eaf-3200-4830-fd76-3390b8db52bc"
      },
      "execution_count": null,
      "outputs": [
        {
          "output_type": "stream",
          "name": "stdout",
          "text": [
            "object\n"
          ]
        }
      ]
    },
    {
      "cell_type": "code",
      "source": [
        "print(df1['Keywords'].apply(type))"
      ],
      "metadata": {
        "id": "zck5rlt8JI3b"
      },
      "execution_count": null,
      "outputs": []
    },
    {
      "cell_type": "code",
      "source": [
        "# Standardize the keywords as they are a mixture of formats (single strings, lists of strings, bulleted lists etc)\n",
        "\n",
        "def standardize_keywords(keyword):\n",
        "    if isinstance(keyword, list):\n",
        "        # Flatten the list and join the elements\n",
        "        keyword = ', '.join([item for sublist in keyword for item in sublist])\n",
        "    elif isinstance(keyword, str):\n",
        "        # Remove any leading numbering or bullet points and strip leading/trailing whitespaces\n",
        "        keyword = re.sub(r'^[\\d\\.\\-\\s]+', '', keyword).strip()\n",
        "        # Remove any square brackets and quotes\n",
        "        keyword = re.sub(r'[\\[\\]\\']', '', keyword)\n",
        "        # Replace any remaining bullet points or numbering with a comma\n",
        "        keyword = re.sub(r'(\\n[\\d\\.\\-\\)\\s]+|\\n•\\s)', ', ', keyword)\n",
        "        # Remove any remaining bullet points or numbering\n",
        "        keyword = re.sub(r'^[\\d\\.\\-\\)\\s]+', '', keyword).strip()\n",
        "        # Check if the input resembles a filename\n",
        "        if os.path.isfile(keyword):\n",
        "            # Read the contents of the file and parse with BeautifulSoup\n",
        "            with open(keyword) as f:\n",
        "                contents = f.read()\n",
        "            keyword = BeautifulSoup(contents, 'html.parser').get_text()\n",
        "    return keyword\n"
      ],
      "metadata": {
        "id": "27Oyko9QSkiW"
      },
      "execution_count": null,
      "outputs": []
    },
    {
      "cell_type": "code",
      "source": [
        "df1['Keywords'] = df1['Keywords'].apply(standardize_keywords)"
      ],
      "metadata": {
        "id": "n4_86nZEPymw"
      },
      "execution_count": null,
      "outputs": []
    },
    {
      "cell_type": "code",
      "source": [
        "df1.head()"
      ],
      "metadata": {
        "colab": {
          "base_uri": "https://localhost:8080/",
          "height": 354
        },
        "id": "TcO3mVv3P7xw",
        "outputId": "e751565f-3906-4391-fdc9-eab6cda49e6f"
      },
      "execution_count": null,
      "outputs": [
        {
          "output_type": "execute_result",
          "data": {
            "text/plain": [
              "   Paper ID                                            Authors  \\\n",
              "0  36798416  ['Taha TY', 'Chen IP', 'Hayashi JM', 'Tabata T...   \n",
              "1  36797405               ['Yoon PH', 'Adler BA', 'Doudna JA']   \n",
              "2  36690762         ['Colognori D', 'Trinidad M', 'Doudna JA']   \n",
              "3  36656942                           ['Wang JY', 'Doudna JA']   \n",
              "4  36652483  ['Li Z', 'Zhong Z', 'Wu Z', 'Pausch P', 'Al-Sh...   \n",
              "\n",
              "                                            Abstract  Author's Order  \\\n",
              "0  Although the SARS-CoV-2 Omicron variant (BA.1)...              18   \n",
              "1                                                NaN               3   \n",
              "2  Robust and precise transcript targeting in mam...               3   \n",
              "3  The advent of clustered regularly interspaced ...               2   \n",
              "4  Clustered regularly interspaced short palindro...               7   \n",
              "\n",
              "   Number of Authors                                           Keywords  \\\n",
              "0                 19                         SARS-CoV-2, Omicron, pGLUE   \n",
              "1                  3                                Cas12, TnpB, CRISPR   \n",
              "2                  3                       CRISPR, RNA, mammalian cells   \n",
              "3                  2          CRISPR, genome editing, genetic diseases.   \n",
              "4                  8  CRISPR-CasΦ, CasΦ variants, DNA methylation, o...   \n",
              "\n",
              "                                               Title Author's Name  \n",
              "0  Rapid assembly of SARS-CoV-2 genomes reveals a...     Doudna JA  \n",
              "1          To TnpB or not TnpB? Cas12 is the answer.     Doudna JA  \n",
              "2  Precise transcript targeting by CRISPR-Csm com...     Doudna JA  \n",
              "3  CRISPR technology: A decade of genome editing ...     Doudna JA  \n",
              "4  Genome editing in plants using the compact edi...     Doudna JA  "
            ],
            "text/html": [
              "\n",
              "  <div id=\"df-30b03649-b3ae-40c8-bd31-3d21302c3bc4\">\n",
              "    <div class=\"colab-df-container\">\n",
              "      <div>\n",
              "<style scoped>\n",
              "    .dataframe tbody tr th:only-of-type {\n",
              "        vertical-align: middle;\n",
              "    }\n",
              "\n",
              "    .dataframe tbody tr th {\n",
              "        vertical-align: top;\n",
              "    }\n",
              "\n",
              "    .dataframe thead th {\n",
              "        text-align: right;\n",
              "    }\n",
              "</style>\n",
              "<table border=\"1\" class=\"dataframe\">\n",
              "  <thead>\n",
              "    <tr style=\"text-align: right;\">\n",
              "      <th></th>\n",
              "      <th>Paper ID</th>\n",
              "      <th>Authors</th>\n",
              "      <th>Abstract</th>\n",
              "      <th>Author's Order</th>\n",
              "      <th>Number of Authors</th>\n",
              "      <th>Keywords</th>\n",
              "      <th>Title</th>\n",
              "      <th>Author's Name</th>\n",
              "    </tr>\n",
              "  </thead>\n",
              "  <tbody>\n",
              "    <tr>\n",
              "      <th>0</th>\n",
              "      <td>36798416</td>\n",
              "      <td>['Taha TY', 'Chen IP', 'Hayashi JM', 'Tabata T...</td>\n",
              "      <td>Although the SARS-CoV-2 Omicron variant (BA.1)...</td>\n",
              "      <td>18</td>\n",
              "      <td>19</td>\n",
              "      <td>SARS-CoV-2, Omicron, pGLUE</td>\n",
              "      <td>Rapid assembly of SARS-CoV-2 genomes reveals a...</td>\n",
              "      <td>Doudna JA</td>\n",
              "    </tr>\n",
              "    <tr>\n",
              "      <th>1</th>\n",
              "      <td>36797405</td>\n",
              "      <td>['Yoon PH', 'Adler BA', 'Doudna JA']</td>\n",
              "      <td>NaN</td>\n",
              "      <td>3</td>\n",
              "      <td>3</td>\n",
              "      <td>Cas12, TnpB, CRISPR</td>\n",
              "      <td>To TnpB or not TnpB? Cas12 is the answer.</td>\n",
              "      <td>Doudna JA</td>\n",
              "    </tr>\n",
              "    <tr>\n",
              "      <th>2</th>\n",
              "      <td>36690762</td>\n",
              "      <td>['Colognori D', 'Trinidad M', 'Doudna JA']</td>\n",
              "      <td>Robust and precise transcript targeting in mam...</td>\n",
              "      <td>3</td>\n",
              "      <td>3</td>\n",
              "      <td>CRISPR, RNA, mammalian cells</td>\n",
              "      <td>Precise transcript targeting by CRISPR-Csm com...</td>\n",
              "      <td>Doudna JA</td>\n",
              "    </tr>\n",
              "    <tr>\n",
              "      <th>3</th>\n",
              "      <td>36656942</td>\n",
              "      <td>['Wang JY', 'Doudna JA']</td>\n",
              "      <td>The advent of clustered regularly interspaced ...</td>\n",
              "      <td>2</td>\n",
              "      <td>2</td>\n",
              "      <td>CRISPR, genome editing, genetic diseases.</td>\n",
              "      <td>CRISPR technology: A decade of genome editing ...</td>\n",
              "      <td>Doudna JA</td>\n",
              "    </tr>\n",
              "    <tr>\n",
              "      <th>4</th>\n",
              "      <td>36652483</td>\n",
              "      <td>['Li Z', 'Zhong Z', 'Wu Z', 'Pausch P', 'Al-Sh...</td>\n",
              "      <td>Clustered regularly interspaced short palindro...</td>\n",
              "      <td>7</td>\n",
              "      <td>8</td>\n",
              "      <td>CRISPR-CasΦ, CasΦ variants, DNA methylation, o...</td>\n",
              "      <td>Genome editing in plants using the compact edi...</td>\n",
              "      <td>Doudna JA</td>\n",
              "    </tr>\n",
              "  </tbody>\n",
              "</table>\n",
              "</div>\n",
              "      <button class=\"colab-df-convert\" onclick=\"convertToInteractive('df-30b03649-b3ae-40c8-bd31-3d21302c3bc4')\"\n",
              "              title=\"Convert this dataframe to an interactive table.\"\n",
              "              style=\"display:none;\">\n",
              "        \n",
              "  <svg xmlns=\"http://www.w3.org/2000/svg\" height=\"24px\"viewBox=\"0 0 24 24\"\n",
              "       width=\"24px\">\n",
              "    <path d=\"M0 0h24v24H0V0z\" fill=\"none\"/>\n",
              "    <path d=\"M18.56 5.44l.94 2.06.94-2.06 2.06-.94-2.06-.94-.94-2.06-.94 2.06-2.06.94zm-11 1L8.5 8.5l.94-2.06 2.06-.94-2.06-.94L8.5 2.5l-.94 2.06-2.06.94zm10 10l.94 2.06.94-2.06 2.06-.94-2.06-.94-.94-2.06-.94 2.06-2.06.94z\"/><path d=\"M17.41 7.96l-1.37-1.37c-.4-.4-.92-.59-1.43-.59-.52 0-1.04.2-1.43.59L10.3 9.45l-7.72 7.72c-.78.78-.78 2.05 0 2.83L4 21.41c.39.39.9.59 1.41.59.51 0 1.02-.2 1.41-.59l7.78-7.78 2.81-2.81c.8-.78.8-2.07 0-2.86zM5.41 20L4 18.59l7.72-7.72 1.47 1.35L5.41 20z\"/>\n",
              "  </svg>\n",
              "      </button>\n",
              "      \n",
              "  <style>\n",
              "    .colab-df-container {\n",
              "      display:flex;\n",
              "      flex-wrap:wrap;\n",
              "      gap: 12px;\n",
              "    }\n",
              "\n",
              "    .colab-df-convert {\n",
              "      background-color: #E8F0FE;\n",
              "      border: none;\n",
              "      border-radius: 50%;\n",
              "      cursor: pointer;\n",
              "      display: none;\n",
              "      fill: #1967D2;\n",
              "      height: 32px;\n",
              "      padding: 0 0 0 0;\n",
              "      width: 32px;\n",
              "    }\n",
              "\n",
              "    .colab-df-convert:hover {\n",
              "      background-color: #E2EBFA;\n",
              "      box-shadow: 0px 1px 2px rgba(60, 64, 67, 0.3), 0px 1px 3px 1px rgba(60, 64, 67, 0.15);\n",
              "      fill: #174EA6;\n",
              "    }\n",
              "\n",
              "    [theme=dark] .colab-df-convert {\n",
              "      background-color: #3B4455;\n",
              "      fill: #D2E3FC;\n",
              "    }\n",
              "\n",
              "    [theme=dark] .colab-df-convert:hover {\n",
              "      background-color: #434B5C;\n",
              "      box-shadow: 0px 1px 3px 1px rgba(0, 0, 0, 0.15);\n",
              "      filter: drop-shadow(0px 1px 2px rgba(0, 0, 0, 0.3));\n",
              "      fill: #FFFFFF;\n",
              "    }\n",
              "  </style>\n",
              "\n",
              "      <script>\n",
              "        const buttonEl =\n",
              "          document.querySelector('#df-30b03649-b3ae-40c8-bd31-3d21302c3bc4 button.colab-df-convert');\n",
              "        buttonEl.style.display =\n",
              "          google.colab.kernel.accessAllowed ? 'block' : 'none';\n",
              "\n",
              "        async function convertToInteractive(key) {\n",
              "          const element = document.querySelector('#df-30b03649-b3ae-40c8-bd31-3d21302c3bc4');\n",
              "          const dataTable =\n",
              "            await google.colab.kernel.invokeFunction('convertToInteractive',\n",
              "                                                     [key], {});\n",
              "          if (!dataTable) return;\n",
              "\n",
              "          const docLinkHtml = 'Like what you see? Visit the ' +\n",
              "            '<a target=\"_blank\" href=https://colab.research.google.com/notebooks/data_table.ipynb>data table notebook</a>'\n",
              "            + ' to learn more about interactive tables.';\n",
              "          element.innerHTML = '';\n",
              "          dataTable['output_type'] = 'display_data';\n",
              "          await google.colab.output.renderOutput(dataTable, element);\n",
              "          const docLink = document.createElement('div');\n",
              "          docLink.innerHTML = docLinkHtml;\n",
              "          element.appendChild(docLink);\n",
              "        }\n",
              "      </script>\n",
              "    </div>\n",
              "  </div>\n",
              "  "
            ]
          },
          "metadata": {},
          "execution_count": 86
        }
      ]
    },
    {
      "cell_type": "code",
      "source": [
        "print(df1['Keywords'].apply(type).unique())"
      ],
      "metadata": {
        "colab": {
          "base_uri": "https://localhost:8080/"
        },
        "id": "akZqAv5_P8fz",
        "outputId": "7e42fbfa-de5b-45a8-8197-da53deddfe8b"
      },
      "execution_count": null,
      "outputs": [
        {
          "output_type": "stream",
          "name": "stdout",
          "text": [
            "[<class 'str'>]\n"
          ]
        }
      ]
    },
    {
      "cell_type": "code",
      "source": [
        "# print all the keywords\n",
        "keywords_list = df1['Keywords'].tolist()\n",
        "for keywords in keywords_list:\n",
        "    print(keywords)"
      ],
      "metadata": {
        "id": "4ZgbkE2YQANn"
      },
      "execution_count": null,
      "outputs": []
    },
    {
      "cell_type": "code",
      "source": [
        "# Group by author name\n",
        "grouped_df = df1.groupby('Author\\'s Name')"
      ],
      "metadata": {
        "id": "SevsK8-9YOPc"
      },
      "execution_count": null,
      "outputs": []
    },
    {
      "cell_type": "markdown",
      "source": [
        "######2. Assign keywords & create word embeddings"
      ],
      "metadata": {
        "id": "fP1gRvEyXj0V"
      }
    },
    {
      "cell_type": "markdown",
      "source": [
        "Notes:\n",
        "\n",
        "1. Group by the author / Concatenate keywordds for every paper / Assign weights based on order of authorship.\n",
        "\n",
        "2. Weights do not nornalization, as they sum up to 1\n",
        "\n",
        "\n",
        "\n",
        "\n"
      ],
      "metadata": {
        "id": "YlNrTzWJXVte"
      }
    },
    {
      "cell_type": "code",
      "source": [
        "grouped_df = df1.groupby('Author\\'s Name')"
      ],
      "metadata": {
        "id": "LHmetL685WAy"
      },
      "execution_count": null,
      "outputs": []
    },
    {
      "cell_type": "code",
      "source": [
        "# Create an empty dictionary to store the keywords for each author\n",
        "author_keywords = {}\n",
        "\n",
        "# Loop through each author group\n",
        "for name, group in grouped_df:\n",
        "    # Concatenate the keywords from all the papers the author has contributed to\n",
        "    all_keywords = ', '.join(group['Keywords'])\n",
        "    \n",
        "    # Split the concatenated keywords into a list\n",
        "    all_keywords = all_keywords.split(', ')\n",
        "    \n",
        "    # Create a dictionary to store the weighted keywords for the author\n",
        "    author_dict = {}\n",
        "    \n",
        "    # Loop through each paper the author has contributed to\n",
        "    for index, row in group.iterrows():\n",
        "        # Calculate the weight for the paper based on the author's order\n",
        "        weight = 1 / row['Author\\'s Order']\n",
        "        \n",
        "        # Split the paper's keywords into a list\n",
        "        paper_keywords = row['Keywords'].split(', ')\n",
        "        \n",
        "        # Loop through each keyword in the paper\n",
        "        for keyword in paper_keywords:\n",
        "            # Strip leading/trailing whitespaces and convert to lowercase\n",
        "            keyword = keyword.strip().lower()\n",
        "            \n",
        "            # Check if keyword exists in author_dict\n",
        "            if keyword in author_dict:\n",
        "                author_dict[keyword] += weight\n",
        "            else:\n",
        "                author_dict[keyword] = weight\n",
        "    \n",
        "    # Sort the weighted keywords by weight in descending order\n",
        "    sorted_keywords = sorted(author_dict.items(), key=lambda x: x[1], reverse=True)\n",
        "    \n",
        "    # Add the sorted weighted keywords to the dictionary for the author\n",
        "    author_keywords[name] = sorted_keywords\n",
        "\n",
        "# Create a dictionary to store the embeddings for each author\n",
        "author_embeddings = {}\n",
        "\n",
        "# Loop through each author's keywords\n",
        "for name, keywords in author_keywords.items():\n",
        "    # Create a list to store the normalized weights for the author's keywords\n",
        "    weights = []\n",
        "    \n",
        "    # Create a list to store the preprocessed keywords for the author's keywords\n",
        "    keyword_list = []\n",
        "    \n",
        "    # Loop through each keyword and weight for the author\n",
        "    for keyword, weight in keywords:\n",
        "        # Append the normalized weight to the list of weights\n",
        "        weights.append(weight / len(keywords))\n",
        "        \n",
        "        # Append the preprocessed keyword to the list of keywords\n",
        "        keyword_list.append(keyword)\n",
        "    \n",
        "    # Create a Word2Vec model for the author's keywords\n",
        "    model = Word2Vec([keyword_list], min_count=1, vector_size=100)\n",
        "    \n",
        "    # Add the Word2Vec model to the dictionary of author embeddings\n",
        "    author_embeddings[name] = model.wv\n"
      ],
      "metadata": {
        "id": "cknnXHRn5WDb"
      },
      "execution_count": null,
      "outputs": []
    },
    {
      "cell_type": "code",
      "source": [
        "# Normalize each author embedding using L2 normalization\n",
        "for author, embedding in author_embeddings.items():\n",
        "    norm = np.linalg.norm(embedding.vectors, axis=1, keepdims=True)\n",
        "    embedding.vectors /= norm\n"
      ],
      "metadata": {
        "id": "_XLVOEgf5WIH"
      },
      "execution_count": null,
      "outputs": []
    },
    {
      "cell_type": "code",
      "source": [
        "# Create a list of author names and embeddings\n",
        "author_names = []\n",
        "embeddings = []\n",
        "for author, embedding in author_embeddings.items():\n",
        "    author_names.append(author)\n",
        "    embeddings.append(embedding)\n",
        "\n",
        "# Create a dataframe with the author names and embeddings\n",
        "embedding_keywords_per_author_df = pd.DataFrame({'Author': author_names, 'Embedding': embeddings})"
      ],
      "metadata": {
        "id": "7XxOHZG55WNO"
      },
      "execution_count": null,
      "outputs": []
    },
    {
      "cell_type": "code",
      "source": [
        "embedding_keywords_per_author_df.head()"
      ],
      "metadata": {
        "colab": {
          "base_uri": "https://localhost:8080/",
          "height": 206
        },
        "id": "0ddk4ucT5WQO",
        "outputId": "98dee04f-a158-4197-f1c1-a110e019aeef"
      },
      "execution_count": null,
      "outputs": [
        {
          "output_type": "execute_result",
          "data": {
            "text/plain": [
              "         Author                                          Embedding\n",
              "0   Al-Shayeb B  [[-0.009473834, 0.004190257, 0.090214565, 0.15...\n",
              "1  Barendregt A  [[-0.009471502, 0.0041983225, 0.09022657, 0.15...\n",
              "2      Batey RT  [[-0.009605538, 0.004423238, 0.09005795, 0.159...\n",
              "3      Bhuiya A  [[-0.009704356, 0.004596475, 0.090265684, 0.15...\n",
              "4       Cate JH  [[-0.009663561, 0.0043093963, 0.090165645, 0.1..."
            ],
            "text/html": [
              "\n",
              "  <div id=\"df-dafbbf6e-68ec-4a06-8aaf-13039f8773e5\">\n",
              "    <div class=\"colab-df-container\">\n",
              "      <div>\n",
              "<style scoped>\n",
              "    .dataframe tbody tr th:only-of-type {\n",
              "        vertical-align: middle;\n",
              "    }\n",
              "\n",
              "    .dataframe tbody tr th {\n",
              "        vertical-align: top;\n",
              "    }\n",
              "\n",
              "    .dataframe thead th {\n",
              "        text-align: right;\n",
              "    }\n",
              "</style>\n",
              "<table border=\"1\" class=\"dataframe\">\n",
              "  <thead>\n",
              "    <tr style=\"text-align: right;\">\n",
              "      <th></th>\n",
              "      <th>Author</th>\n",
              "      <th>Embedding</th>\n",
              "    </tr>\n",
              "  </thead>\n",
              "  <tbody>\n",
              "    <tr>\n",
              "      <th>0</th>\n",
              "      <td>Al-Shayeb B</td>\n",
              "      <td>[[-0.009473834, 0.004190257, 0.090214565, 0.15...</td>\n",
              "    </tr>\n",
              "    <tr>\n",
              "      <th>1</th>\n",
              "      <td>Barendregt A</td>\n",
              "      <td>[[-0.009471502, 0.0041983225, 0.09022657, 0.15...</td>\n",
              "    </tr>\n",
              "    <tr>\n",
              "      <th>2</th>\n",
              "      <td>Batey RT</td>\n",
              "      <td>[[-0.009605538, 0.004423238, 0.09005795, 0.159...</td>\n",
              "    </tr>\n",
              "    <tr>\n",
              "      <th>3</th>\n",
              "      <td>Bhuiya A</td>\n",
              "      <td>[[-0.009704356, 0.004596475, 0.090265684, 0.15...</td>\n",
              "    </tr>\n",
              "    <tr>\n",
              "      <th>4</th>\n",
              "      <td>Cate JH</td>\n",
              "      <td>[[-0.009663561, 0.0043093963, 0.090165645, 0.1...</td>\n",
              "    </tr>\n",
              "  </tbody>\n",
              "</table>\n",
              "</div>\n",
              "      <button class=\"colab-df-convert\" onclick=\"convertToInteractive('df-dafbbf6e-68ec-4a06-8aaf-13039f8773e5')\"\n",
              "              title=\"Convert this dataframe to an interactive table.\"\n",
              "              style=\"display:none;\">\n",
              "        \n",
              "  <svg xmlns=\"http://www.w3.org/2000/svg\" height=\"24px\"viewBox=\"0 0 24 24\"\n",
              "       width=\"24px\">\n",
              "    <path d=\"M0 0h24v24H0V0z\" fill=\"none\"/>\n",
              "    <path d=\"M18.56 5.44l.94 2.06.94-2.06 2.06-.94-2.06-.94-.94-2.06-.94 2.06-2.06.94zm-11 1L8.5 8.5l.94-2.06 2.06-.94-2.06-.94L8.5 2.5l-.94 2.06-2.06.94zm10 10l.94 2.06.94-2.06 2.06-.94-2.06-.94-.94-2.06-.94 2.06-2.06.94z\"/><path d=\"M17.41 7.96l-1.37-1.37c-.4-.4-.92-.59-1.43-.59-.52 0-1.04.2-1.43.59L10.3 9.45l-7.72 7.72c-.78.78-.78 2.05 0 2.83L4 21.41c.39.39.9.59 1.41.59.51 0 1.02-.2 1.41-.59l7.78-7.78 2.81-2.81c.8-.78.8-2.07 0-2.86zM5.41 20L4 18.59l7.72-7.72 1.47 1.35L5.41 20z\"/>\n",
              "  </svg>\n",
              "      </button>\n",
              "      \n",
              "  <style>\n",
              "    .colab-df-container {\n",
              "      display:flex;\n",
              "      flex-wrap:wrap;\n",
              "      gap: 12px;\n",
              "    }\n",
              "\n",
              "    .colab-df-convert {\n",
              "      background-color: #E8F0FE;\n",
              "      border: none;\n",
              "      border-radius: 50%;\n",
              "      cursor: pointer;\n",
              "      display: none;\n",
              "      fill: #1967D2;\n",
              "      height: 32px;\n",
              "      padding: 0 0 0 0;\n",
              "      width: 32px;\n",
              "    }\n",
              "\n",
              "    .colab-df-convert:hover {\n",
              "      background-color: #E2EBFA;\n",
              "      box-shadow: 0px 1px 2px rgba(60, 64, 67, 0.3), 0px 1px 3px 1px rgba(60, 64, 67, 0.15);\n",
              "      fill: #174EA6;\n",
              "    }\n",
              "\n",
              "    [theme=dark] .colab-df-convert {\n",
              "      background-color: #3B4455;\n",
              "      fill: #D2E3FC;\n",
              "    }\n",
              "\n",
              "    [theme=dark] .colab-df-convert:hover {\n",
              "      background-color: #434B5C;\n",
              "      box-shadow: 0px 1px 3px 1px rgba(0, 0, 0, 0.15);\n",
              "      filter: drop-shadow(0px 1px 2px rgba(0, 0, 0, 0.3));\n",
              "      fill: #FFFFFF;\n",
              "    }\n",
              "  </style>\n",
              "\n",
              "      <script>\n",
              "        const buttonEl =\n",
              "          document.querySelector('#df-dafbbf6e-68ec-4a06-8aaf-13039f8773e5 button.colab-df-convert');\n",
              "        buttonEl.style.display =\n",
              "          google.colab.kernel.accessAllowed ? 'block' : 'none';\n",
              "\n",
              "        async function convertToInteractive(key) {\n",
              "          const element = document.querySelector('#df-dafbbf6e-68ec-4a06-8aaf-13039f8773e5');\n",
              "          const dataTable =\n",
              "            await google.colab.kernel.invokeFunction('convertToInteractive',\n",
              "                                                     [key], {});\n",
              "          if (!dataTable) return;\n",
              "\n",
              "          const docLinkHtml = 'Like what you see? Visit the ' +\n",
              "            '<a target=\"_blank\" href=https://colab.research.google.com/notebooks/data_table.ipynb>data table notebook</a>'\n",
              "            + ' to learn more about interactive tables.';\n",
              "          element.innerHTML = '';\n",
              "          dataTable['output_type'] = 'display_data';\n",
              "          await google.colab.output.renderOutput(dataTable, element);\n",
              "          const docLink = document.createElement('div');\n",
              "          docLink.innerHTML = docLinkHtml;\n",
              "          element.appendChild(docLink);\n",
              "        }\n",
              "      </script>\n",
              "    </div>\n",
              "  </div>\n",
              "  "
            ]
          },
          "metadata": {},
          "execution_count": 146
        }
      ]
    },
    {
      "cell_type": "code",
      "source": [
        "len(embedding_keywords_per_author_df)"
      ],
      "metadata": {
        "colab": {
          "base_uri": "https://localhost:8080/"
        },
        "id": "knvN41df5WTm",
        "outputId": "fb61f45f-fbee-4272-f4d0-dea72f0deeb7"
      },
      "execution_count": null,
      "outputs": [
        {
          "output_type": "execute_result",
          "data": {
            "text/plain": [
              "51"
            ]
          },
          "metadata": {},
          "execution_count": 150
        }
      ]
    },
    {
      "cell_type": "code",
      "source": [
        "len(author_keywords)"
      ],
      "metadata": {
        "colab": {
          "base_uri": "https://localhost:8080/"
        },
        "id": "leOi4irx5YCR",
        "outputId": "a1825734-2c0f-4bd7-ec0b-6d23dc00f4cc"
      },
      "execution_count": null,
      "outputs": [
        {
          "output_type": "execute_result",
          "data": {
            "text/plain": [
              "51"
            ]
          },
          "metadata": {},
          "execution_count": 152
        }
      ]
    },
    {
      "cell_type": "code",
      "source": [
        "num_authors = len(grouped_df[\"Author's Name\"].unique())\n",
        "print(num_authors)"
      ],
      "metadata": {
        "colab": {
          "base_uri": "https://localhost:8080/"
        },
        "id": "DVzk1BTt5YFH",
        "outputId": "ddf6aed2-a06a-4934-ca43-05be3b1ebf07"
      },
      "execution_count": null,
      "outputs": [
        {
          "output_type": "stream",
          "name": "stdout",
          "text": [
            "51\n"
          ]
        }
      ]
    },
    {
      "cell_type": "code",
      "source": [
        "# Save the dataframe \n",
        "save_dir = \"/content/drive/MyDrive/Pubmed_project\"\n",
        "save_file_path = save_dir + \"/1_Keyword_Embeddings.csv\"\n",
        "embedding_keywords_per_author_df.to_csv(save_file_path, index=False)"
      ],
      "metadata": {
        "id": "tv5pj21P5YKO"
      },
      "execution_count": null,
      "outputs": []
    },
    {
      "cell_type": "code",
      "source": [
        "type(embedding_keywords_per_author_df)"
      ],
      "metadata": {
        "colab": {
          "base_uri": "https://localhost:8080/"
        },
        "id": "tR6EXqbaAb4H",
        "outputId": "f1796f9b-1b8b-4b30-f224-d99a3ce3a573"
      },
      "execution_count": null,
      "outputs": [
        {
          "output_type": "execute_result",
          "data": {
            "text/plain": [
              "pandas.core.frame.DataFrame"
            ]
          },
          "metadata": {},
          "execution_count": 160
        }
      ]
    },
    {
      "cell_type": "code",
      "source": [
        "embedding_keywords_per_author_df.to_csv('/content/drive/MyDrive/Pubmed_project/2_Keyword_Embeddings.csv', index=False, sep=',')"
      ],
      "metadata": {
        "id": "emQ4qVyvAm7m"
      },
      "execution_count": null,
      "outputs": []
    },
    {
      "cell_type": "code",
      "source": [
        "embedding_array = embedding.vectors\n",
        "np.savetxt('/content/drive/MyDrive/Pubmed_project/3_Keyword_Embeddings.csv', embedding_array, delimiter=',')"
      ],
      "metadata": {
        "id": "2FzZLaVeBaQA"
      },
      "execution_count": null,
      "outputs": []
    },
    {
      "cell_type": "markdown",
      "source": [
        "######**NOTE:** Although Doudna JA (the central author for our analysis) has 346 co-authors in toal and although we have already selected the 51 more relevant to her based on the frequency of their shared publications, we end up with only 51 authors here. That is because some of these authors are not included at the data we collected from PubMed. Disregard this and continue the process with these 51 for now.\n"
      ],
      "metadata": {
        "id": "oLNxVIFnCNbj"
      }
    }
  ]
}